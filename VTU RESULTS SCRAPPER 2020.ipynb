{
 "cells": [
  {
   "cell_type": "markdown",
   "metadata": {},
   "source": [
    "# VTU Results Scrapper\n",
    "### Imports"
   ]
  },
  {
   "cell_type": "code",
   "execution_count": 7,
   "metadata": {},
   "outputs": [],
   "source": [
    "import requests\n",
    "from lxml import html\n",
    "from bs4 import BeautifulSoup\n",
    "import urllib3\n",
    "urllib3.disable_warnings(urllib3.exceptions.InsecureRequestWarning)"
   ]
  },
  {
   "cell_type": "code",
   "execution_count": 8,
   "metadata": {},
   "outputs": [],
   "source": [
    "post_payload = {}\n",
    "post_headers = {\n",
    "  'User-Agent': 'Mozilla/5.0 (Macintosh; Intel Mac OS X 10_15_3) AppleWebKit/605.1.15 (KHTML, like Gecko) Version/13.0.5 Safari/605.1.15',\n",
    "  'Accept': '*/*',\n",
    "  'Cache-Control': 'no-cache',\n",
    "  'Postman-Token': '864cb406-0cf9-4518-93aa-66023eef8e00',\n",
    "  'Accept-Encoding': 'gzip, deflate, br',\n",
    "  'Referer': 'https://results.vtu.ac.in/_CBCS/resultpage.php?lns=1BI17CS010&captchacode=uFPXjv&Token=9da2da7349afd3ed906f17e8fbf3d284a55b29ba',\n",
    "  'Connection': 'keep-alive'\n",
    "}"
   ]
  },
  {
   "cell_type": "markdown",
   "metadata": {},
   "source": [
    "# OCR Function"
   ]
  },
  {
   "cell_type": "code",
   "execution_count": 9,
   "metadata": {},
   "outputs": [],
   "source": [
    "try:\n",
    "    from PIL import Image\n",
    "except ImportError:\n",
    "    import Image\n",
    "import pytesseract\n",
    "import numpy as np\n",
    "import cv2\n",
    "\n",
    "def getNewSession():\n",
    "    url = \"https://results.vtu.ac.in/_CBCS/index.php\"\n",
    "\n",
    "    headers = {\n",
    "  'User-Agent': 'Mozilla/5.0 (Macintosh; Intel Mac OS X 10_15_3) AppleWebKit/605.1.15 (KHTML, like Gecko) Version/13.0.5 Safari/605.1.15',\n",
    "  'Accept': '*/*',\n",
    "  'Cache-Control': 'no-cache',\n",
    "  'Postman-Token': 'b222b1f1-1fed-4490-965a-805f53a28e97',\n",
    "  'Host': 'results.vtu.ac.in',\n",
    "  'Accept-Encoding': 'gzip, deflate, br',\n",
    "  'Connection': 'keep-alive'\n",
    "}\n",
    "    response = requests.request(\"GET\", url, headers=headers, verify=False)\n",
    "    soup = BeautifulSoup(response.content, 'html.parser')\n",
    "    img_url = \"https://results.vtu.ac.in\"+(soup.find_all('img')[1])['src']\n",
    "    token = soup.find_all('input',attrs={'name':\"Token\"})\n",
    "    post_payload['Token'] = token[0]['value']\n",
    "    img_headers = {\n",
    "  'User-Agent': 'Mozilla/5.0 (Macintosh; Intel Mac OS X 10_15_3) AppleWebKit/605.1.15 (KHTML, like Gecko) Version/13.0.5 Safari/605.1.15',\n",
    "  'Accept': '*/*',\n",
    "  'Cache-Control': 'no-cache',\n",
    "  'Postman-Token': '063fdb07-fe60-466a-be5e-fe08dec56a21',\n",
    "  'Host': 'results.vtu.ac.in',\n",
    "  'Accept-Encoding': 'gzip, deflate, br',\n",
    "  'Connection': 'keep-alive'\n",
    "}\n",
    "    img_headers['Cookie'] = str(response.headers['Set-Cookie']).rstrip(\"; path=/'\")\n",
    "    post_headers['Cookie'] = img_headers['Cookie']\n",
    "    response = requests.request(\"GET\", img_url, headers=img_headers,verify=False)\n",
    "    with open(\"cap.png\", 'wb') as file:\n",
    "        file.write(response.content)\n",
    "    image = cv2.imread(\"cap.png\")\n",
    "    result = image.copy()\n",
    "    image = cv2.cvtColor(image, cv2.COLOR_BGR2HSV)\n",
    "    lower = np.array([-10,-10,62])\n",
    "    upper = np.array([10,10,142])\n",
    "    mask = cv2.inRange(image, lower, upper)\n",
    "    result = cv2.bitwise_and(result, result, mask=mask)\n",
    "    cv2.imwrite('mask.png', mask)\n",
    "    cv2.imwrite('out.png', image)\n",
    "    cv2.imwrite('result.png', result)\n",
    "    cv2.waitKey()\n",
    "    post_payload['captchacode'] = pytesseract.image_to_string(Image.open(\"mask.png\"))"
   ]
  },
  {
   "cell_type": "code",
   "execution_count": 16,
   "metadata": {},
   "outputs": [],
   "source": [
    "getNewSession()"
   ]
  },
  {
   "cell_type": "markdown",
   "metadata": {},
   "source": [
    "### Get Result"
   ]
  },
  {
   "cell_type": "code",
   "execution_count": 24,
   "metadata": {
    "scrolled": true
   },
   "outputs": [],
   "source": [
    "def getResult(USN):\n",
    "    post_payload['lns'] = USN\n",
    "    url = \"https://results.vtu.ac.in/_CBCS/resultpage.php\"\n",
    "    res = requests.request(\"POST\", url, headers=post_headers, data = post_payload, verify=False)\n",
    "    if 'Invalid captcha code !!!' in res.text:\n",
    "        print(\"Invalid Captcha, getting new session\")\n",
    "        getNewSession()\n",
    "        return(getResult(USN))\n",
    "    elif \"Redirecting to VTU Results Site\" in res.text:\n",
    "        getNewSession()\n",
    "        return(getResult(USN))\n",
    "    elif \"University Seat Number is not available or Invalid..!\" in res.text:\n",
    "        return 404\n",
    "    elif \"Please check website after 4 hour --- !!!\" in res.text:\n",
    "        print(\"IP BLOCKED...CHECK PROXY...PRESS ANY KEY TO CONTINUE\")\n",
    "        input()\n",
    "        getResult(USN)\n",
    "    else:\n",
    "        soup = BeautifulSoup(res.content, 'html.parser')\n",
    "        result = [soup.find_all('td')[3].text.lstrip(' : ')]\n",
    "        table = soup.find_all('div',attrs={'class':'divTable'})[0]\n",
    "        rows = table.find_all('div',attrs={'class':'divTableRow'})[1:]\n",
    "        for row in rows:\n",
    "            sub = {}\n",
    "            cells = row.find_all('div',attrs={'class':'divTableCell'})\n",
    "            sub['subcode'] = cells[0].text\n",
    "            sub['subname'] = cells[1].text\n",
    "            sub['ia'] = cells[2].text\n",
    "            sub['ea'] = cells[3].text\n",
    "            sub['total'] = cells[4].text\n",
    "            sub['result'] = cells[5].text\n",
    "            result.append(sub)\n",
    "        return result"
   ]
  },
  {
   "cell_type": "code",
   "execution_count": 29,
   "metadata": {
    "scrolled": false
   },
   "outputs": [],
   "source": [
    "r = getResult(\"1BI17CS010\")"
   ]
  },
  {
   "cell_type": "code",
   "execution_count": null,
   "metadata": {
    "scrolled": false
   },
   "outputs": [],
   "source": [
    "import json\n",
    "print(json.dumps(r,sort_keys=True,indent=4))"
   ]
  }
 ],
 "metadata": {
  "kernelspec": {
   "display_name": "Python 3",
   "language": "python",
   "name": "python3"
  },
  "language_info": {
   "codemirror_mode": {
    "name": "ipython",
    "version": 3
   },
   "file_extension": ".py",
   "mimetype": "text/x-python",
   "name": "python",
   "nbconvert_exporter": "python",
   "pygments_lexer": "ipython3",
   "version": "3.8.2"
  }
 },
 "nbformat": 4,
 "nbformat_minor": 4
}
